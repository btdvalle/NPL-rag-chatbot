{
 "cells": [
  {
   "cell_type": "markdown",
   "id": "c685aefe",
   "metadata": {},
   "source": [
    "# 🤖 Retrieval‑Augmented Generation (RAG) Chatbot\n",
    "\n",
    "Clean, production‑style notebook. Concise sections, minimal narration, technical comments only.\n"
   ]
  },
  {
   "cell_type": "markdown",
   "id": "a031ae9f",
   "metadata": {},
   "source": [
    "**Sections**\n",
    "1. Imports  \n",
    "2. Data Ingestion \n",
    "3. Text Preprocessing\n",
    "4. Chunking\n",
    "5. Embedding Generation\n",
    "6. Vector Indexing\n",
    "7. Retrieval + Generation (RAG QA)\n",
    "8. RAG Pipeline\n",
    "9. Chatbot Interaction\n",
    "10. Evaluation"
   ]
  },
  {
   "cell_type": "markdown",
   "id": "a7a49683",
   "metadata": {},
   "source": [
    "## 1. Imports"
   ]
  },
  {
   "cell_type": "code",
   "execution_count": 39,
   "id": "c26e1a1a",
   "metadata": {},
   "outputs": [],
   "source": [
    "import os\n",
    "from langchain.embeddings import OpenAIEmbeddings\n",
    "from langchain.vectorstores import FAISS\n",
    "from langchain.text_splitter import CharacterTextSplitter\n",
    "from langchain.document_loaders import TextLoader\n",
    "from langchain.chains import RetrievalQA\n",
    "from langchain.llms import OpenAI\n",
    "from langchain.docstore.document import Document\n",
    "from openai import OpenAI"
   ]
  },
  {
   "cell_type": "markdown",
   "id": "a0904541",
   "metadata": {},
   "source": [
    "## 2. Data Ingestion"
   ]
  },
  {
   "cell_type": "code",
   "execution_count": 40,
   "id": "9513a183",
   "metadata": {},
   "outputs": [
    {
     "name": "stdout",
     "output_type": "stream",
     "text": [
      "\n",
      "MANUAL DE RECURSOS HUMANOS - EMPRESA \"CAFÉ Y SIÉSTA S.L.\"\n",
      "\n",
      "Bienvenido a bordo, querido mortal. Si estás leyendo esto, probablemente fuiste lo suficientemente astuto como para engañar al departamento de selección. Felicidades.\n",
      "\n",
      "1. INGRESO A LA EMPRESA\n",
      "\n",
      "El primer día de trabajo se te entregará una taza personalizada con tu nombre mal escrito, una silla giratoria que no gira y una lista de contraseñas que no funcionan. Tu computadora tardará entre 2 y 17 días en ser configurada. Durante ese tiempo, se espera que medites sobre el propósito de la vida laboral.\n",
      "\n",
      "Tu jefe te saludará con un \"ah, ¿hoy empezabas?\", y te asignará una tarea urgente sobre un proyecto del que nadie quiere hablar. No preguntes, simplemente asiente con cara de experto.\n",
      "\n",
      "2. HORARIOS\n",
      "\n",
      "El horario oficial es de 9:00 a 23:00.\n"
     ]
    }
   ],
   "source": [
    "path_file = \"../data/Manual_RRHH_Absurdo.txt\"\n",
    "loader = TextLoader(path_file)\n",
    "docs=loader.load()\n",
    "print(docs[0].page_content[:800])"
   ]
  },
  {
   "cell_type": "markdown",
   "id": "f7e5548c",
   "metadata": {},
   "source": [
    "# 3. Text Preprocessing\n",
    "### Text Cleaning / Normalization"
   ]
  },
  {
   "cell_type": "code",
   "execution_count": 41,
   "id": "270ccd55",
   "metadata": {},
   "outputs": [
    {
     "name": "stdout",
     "output_type": "stream",
     "text": [
      "manual de recursos humanos   empresa  cafe y siesta s l  \n",
      "\n",
      "bienvenido a bordo  querido mortal  si estas leyendo esto  probablemente fuiste lo suficientemente astuto como para enganar al departamento de seleccion  felicidades \n",
      "\n",
      "1  ingreso a la empresa\n",
      "\n",
      "el primer dia de trabajo se te entregara una taza personalizada con tu nombre mal escrito  una silla giratoria que no gira y una lista de contrasenas que no funcionan  tu computadora tardara entre 2 y 17 dias en ser configurada  durante ese tiempo  se espera que medites sobre el proposito de la vida laboral \n",
      "\n",
      "tu jefe te saludara con un  ah   hoy empezabas    y te asignara una tarea urgente sobre un proyecto del que nadie quiere hablar  no preguntes  simplemente asiente con cara de experto \n",
      "\n",
      "2  horarios\n",
      "\n",
      "el horario oficial es de 9 00 a 23 00  \n"
     ]
    }
   ],
   "source": [
    "import re\n",
    "import unicodedata\n",
    "\n",
    "def clean_text(text):\n",
    "    text = text.lower()  #\n",
    "    text = re.sub(r\"http\\S+\", \"\", text)  # URLs\n",
    "    text = re.sub(r\"\\S+@\\S+\", \"\", text)  # emails\n",
    "    text = re.sub(r\"[^\\w\\s]\", \" \", text)  # special characters\n",
    "    text = re.sub(r\"\\d{2}/\\d{2}/\\d{4}\", \"\", text)  # dates\n",
    "    text = unicodedata.normalize(\"NFKD\", text).encode(\"ASCII\", \"ignore\").decode(\"utf-8\")  # accents\n",
    "    text = re.sub(r\"[^\\w\\s\\n]\", \" \", text)  # extra whitespace\n",
    "    return text.strip()\n",
    "\n",
    "cleaned_text = clean_text(docs[0].page_content)\n",
    "print(cleaned_text[:800])"
   ]
  },
  {
   "cell_type": "markdown",
   "id": "9f8650ab",
   "metadata": {},
   "source": [
    "# 4. Chunking \n",
    "### Document Splitting"
   ]
  },
  {
   "cell_type": "code",
   "execution_count": 42,
   "id": "9b819dd1",
   "metadata": {},
   "outputs": [
    {
     "name": "stdout",
     "output_type": "stream",
     "text": [
      "Chars in cleaned text: 3393\n",
      "Total_chunks: 9\n"
     ]
    }
   ],
   "source": [
    "docs = [Document(page_content=cleaned_text)]\n",
    "splitter = CharacterTextSplitter(chunk_size=500, chunk_overlap=50)\n",
    "chunks = splitter.split_documents(docs)\n",
    "print(\"Chars in cleaned text:\", len(cleaned_text))\n",
    "print(\"Total_chunks:\", len(chunks))"
   ]
  },
  {
   "cell_type": "markdown",
   "id": "64631be6",
   "metadata": {},
   "source": [
    "# 5. Embedding Generation"
   ]
  },
  {
   "cell_type": "code",
   "execution_count": 43,
   "id": "c3b6c3f2",
   "metadata": {},
   "outputs": [],
   "source": [
    "from langchain.embeddings import HuggingFaceEmbeddings\n",
    "embedding = HuggingFaceEmbeddings(model_name=\"all-MiniLM-L6-v2\")\n"
   ]
  },
  {
   "cell_type": "markdown",
   "id": "cf367968",
   "metadata": {},
   "source": [
    "# 6. Vector Indexing \n",
    "### FAISS Index Building"
   ]
  },
  {
   "cell_type": "code",
   "execution_count": 44,
   "id": "16f288b9",
   "metadata": {},
   "outputs": [
    {
     "name": "stdout",
     "output_type": "stream",
     "text": [
      "Index created with: 9 vectors\n"
     ]
    }
   ],
   "source": [
    "vectorstore = FAISS.from_documents(chunks, embedding)\n",
    "print(\"Index created with:\", vectorstore.index.ntotal, \"vectors\")"
   ]
  },
  {
   "cell_type": "markdown",
   "id": "bfc6fe5e",
   "metadata": {},
   "source": [
    "## 7. Retrieval"
   ]
  },
  {
   "cell_type": "code",
   "execution_count": null,
   "id": "ddbafa3b",
   "metadata": {},
   "outputs": [],
   "source": [
    "client = OpenAI(api_key=\"OPENROUTER_API_KEY\", base_url=\"https://openrouter.ai/api/v1\")"
   ]
  },
  {
   "cell_type": "code",
   "execution_count": 46,
   "id": "a26b7c63",
   "metadata": {},
   "outputs": [],
   "source": [
    "def retrieve(query: str, k: int = 3):\n",
    "    return vectorstore.similarity_search(query, k=k)"
   ]
  },
  {
   "cell_type": "markdown",
   "id": "4d4908b2",
   "metadata": {},
   "source": [
    "## 8. RAG Pipeline"
   ]
  },
  {
   "cell_type": "code",
   "execution_count": 47,
   "id": "5fdf6e4a",
   "metadata": {},
   "outputs": [],
   "source": [
    "def build_context(docs):\n",
    "    return \"\\n\\n\".join(d.page_content for d in docs)"
   ]
  },
  {
   "cell_type": "code",
   "execution_count": 48,
   "id": "2a7cf17c",
   "metadata": {},
   "outputs": [],
   "source": [
    "def generate_answer(query: str, docs):\n",
    "    context = build_context(docs)\n",
    "    resp = client.chat.completions.create(\n",
    "        model=\"deepseek/deepseek-r1:free\",\n",
    "        messages=[\n",
    "            {\"role\": \"system\", \"content\": \"Responde SOLO usando el contexto del manual. Si no está, di que no aparece.\"},\n",
    "            {\"role\": \"user\", \"content\": f\"Contexto:\\n{context}\\n\\nPregunta:\\n{query}\"}\n",
    "        ]\n",
    "    )\n",
    "    return resp.choices[0].message.content"
   ]
  },
  {
   "cell_type": "code",
   "execution_count": 49,
   "id": "9b700427",
   "metadata": {},
   "outputs": [],
   "source": [
    "def rag_answer(query: str, k: int = 3):\n",
    "    docs = retrieve(query, k=k)\n",
    "    answer = generate_answer(query, docs)\n",
    "    return answer, docs"
   ]
  },
  {
   "cell_type": "markdown",
   "id": "f03d2547",
   "metadata": {},
   "source": [
    "## 9. Chatbot Interaction"
   ]
  },
  {
   "cell_type": "code",
   "execution_count": 50,
   "id": "b03df9e2",
   "metadata": {},
   "outputs": [
    {
     "name": "stdout",
     "output_type": "stream",
     "text": [
      "\n",
      "Q: ¿Como debo solicitar mis vacaciones?\n",
      "A: Para solicitar tus vacaciones, según el manual, debes redactar una solicitud formal escrita **en pergamino**, sellarla con **cera caliente** y entregarla en mano al **unicornio de la oficina**. Si el unicornio está ocupado, puedes intentar usar el **formulario online**, aunque se aclara que este \"jamás funciona\". \n",
      "\n",
      "No se mencionan más opciones ni detalles adicionales en el contexto proporcionado.\n",
      "Docs usados: 3\n",
      "\n",
      "Q: Cual es el horario oficial?\n",
      "A: El horario oficial mencionado en el contexto es de **9:00 a 23:00**. Así lo establece el punto 2, aunque también se aclara que el \"horario real\" es más flexible, sujeto a sutiles presiones sociales.\n",
      "Docs usados: 3\n",
      "\n",
      "Q: Que pasa el primer dia?\n",
      "A: Según el manual, **el primer día de trabajo** recibirás:  \n",
      "- Una taza personalizada con tu nombre mal escrito.  \n",
      "- Una silla giratoria que no gira.  \n",
      "- Una lista de contraseñas que no funcionan.  \n",
      "\n",
      "Además, tu computadora tardará entre **2 y 17 días en ser configurada**, y durante ese tiempo debes **meditar sobre el propósito de la vida laboral** (contexto punto 1).\n",
      "Docs usados: 3\n"
     ]
    }
   ],
   "source": [
    "demo_questions = [\n",
    "    \"¿Como debo solicitar mis vacaciones?\",\n",
    "    \"Cual es el horario oficial?\",\n",
    "    \"Que pasa el primer dia?\",\n",
    "]\n",
    "\n",
    "for q in demo_questions:\n",
    "    ans, used = rag_answer(q, k=3)\n",
    "    print(f\"\\nQ: {q}\\nA: {ans}\\nDocs usados: {len(used)}\")"
   ]
  },
  {
   "cell_type": "markdown",
   "id": "9554804a",
   "metadata": {},
   "source": [
    "## 10. Evaluation"
   ]
  },
  {
   "cell_type": "code",
   "execution_count": 51,
   "id": "664f27bf",
   "metadata": {},
   "outputs": [
    {
     "name": "stdout",
     "output_type": "stream",
     "text": [
      "\n",
      "=== Evaluation ===\n",
      "[1.0] ¿Como debo solicitar mis vacaciones? -> Para solicitar vacaciones, debes presentar una solicitud formal escrita en pergamino, sellada con cera caliente, y entregarla en mano al uni...\n",
      "[0.5] Cual es el horario oficial? -> El horario oficial mencionado en el contexto es de **9:00 a 23:00**. \n",
      "\n",
      "Fuente: Sección **2. Horarios** del manual proporcionado.\n",
      "[1.0] Que sucede el primer dia de trabajo? -> Según el contexto proporcionado, **el primer día de trabajo suceden las siguientes cosas**:  \n",
      "1. Se entrega una **taza personalizada con tu ...\n"
     ]
    }
   ],
   "source": [
    "EVAL_SET = [\n",
    "    {\n",
    "        \"query\": \"¿Como debo solicitar mis vacaciones?\",\n",
    "        \"keywords\": [\"pergamino\", \"cera\", \"unicornio\"]\n",
    "    },\n",
    "    {\n",
    "        \"query\": \"Cual es el horario oficial?\",\n",
    "        \"keywords\": [\"9\", \"23\", \"constructo\", \"murmura\"]\n",
    "    },\n",
    "    {\n",
    "        \"query\": \"Que sucede el primer dia de trabajo?\",\n",
    "        \"keywords\": [\"taza\", \"contraseña\", \"giratoria\"]\n",
    "    }\n",
    "]\n",
    "\n",
    "def evaluate(eval_set):\n",
    "    results = []\n",
    "    for item in eval_set:\n",
    "        ans, _ = rag_answer(item[\"query\"])\n",
    "        text = ans.lower()\n",
    "        hit = sum(1 for kw in item[\"keywords\"] if kw in text)\n",
    "        coverage = hit / len(item[\"keywords\"])\n",
    "        results.append((item[\"query\"], round(coverage, 2), ans[:140] + (\"...\" if len(ans) > 140 else \"\")))\n",
    "    return results\n",
    "\n",
    "print(\"\\n=== Evaluation ===\")\n",
    "for q, cov, preview in evaluate(EVAL_SET):\n",
    "    print(f\"[{cov}] {q} -> {preview}\")"
   ]
  }
 ],
 "metadata": {
  "kernelspec": {
   "display_name": "base",
   "language": "python",
   "name": "python3"
  },
  "language_info": {
   "codemirror_mode": {
    "name": "ipython",
    "version": 3
   },
   "file_extension": ".py",
   "mimetype": "text/x-python",
   "name": "python",
   "nbconvert_exporter": "python",
   "pygments_lexer": "ipython3",
   "version": "3.13.5"
  },
  "title": "RAG Chatbot (Professional Notebook)"
 },
 "nbformat": 4,
 "nbformat_minor": 5
}
